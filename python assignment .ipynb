{
 "cells": [
  {
   "cell_type": "raw",
   "id": "74df20d4-153e-4512-aab6-dd277e1516bd",
   "metadata": {},
   "source": [
    "1 . ALL VARIABLES NAMES MUST BEGIN WITH A LETTER OF THE ALPHABET OR AN UNDERSCORE (_) . AFTER THE FIRST INITIAL LETTER , VARIABLE NAMES CAN ALSO CONTAIN LETTERS AND NUMBERS . VARIABLE NUMBERS ARE CASE SENSITIVE . NO SPACES OR SPECIAL CHARACTERS ARE ALLOWED ."
   ]
  },
  {
   "cell_type": "raw",
   "id": "25361cfb-c81d-49fd-92a1-3db54e09af2e",
   "metadata": {},
   "source": [
    "2 . IF WE USE A RESTRICTED KEYWORD AS A VARIABLE IT WILL SHOW A VARIABLE ERROR IN THAT PARTICULAR CELL."
   ]
  },
  {
   "cell_type": "raw",
   "id": "3a64c488-0a13-4bf3-8027-07d37dde40ef",
   "metadata": {},
   "source": [
    "3 . YES SOMETIMES WE CAN DECLARE A STRING AS A VARIABLE MEAN WHEN A STRING VARIABLE IS IDENTIFIED WITH A VARIABLE NAME WITH THE $ CHARACTER ."
   ]
  },
  {
   "cell_type": "raw",
   "id": "0ff21be4-3ae2-4f70-9175-c5c2646365f5",
   "metadata": {},
   "source": [
    "4 . YES IT IS POSSIBLE FOR US TO DECLARE \"_\" AS A VARIABLE . THE EXAMPLE IS DISCUSSED BELOW :- "
   ]
  },
  {
   "cell_type": "code",
   "execution_count": 6,
   "id": "17352b6e-0ac4-4354-9d15-4188674066bd",
   "metadata": {},
   "outputs": [],
   "source": [
    " a =  \"_\" "
   ]
  },
  {
   "cell_type": "code",
   "execution_count": 7,
   "id": "605cdc86-1381-443b-bc38-6844d6cfb893",
   "metadata": {},
   "outputs": [
    {
     "data": {
      "text/plain": [
       "'_'"
      ]
     },
     "execution_count": 7,
     "metadata": {},
     "output_type": "execute_result"
    }
   ],
   "source": [
    "a"
   ]
  },
  {
   "cell_type": "raw",
   "id": "f9a39024-1072-40fd-ab5a-24b6447ae891",
   "metadata": {},
   "source": [
    "5 . VARIABLES IN PYTHON ARE DYNAMIC IN NATURE . THE EXAMPLE IS DISCUSSED BELOW :-"
   ]
  },
  {
   "cell_type": "code",
   "execution_count": 8,
   "id": "ef5142df-5121-4534-91d3-7e8f8d4a0def",
   "metadata": {},
   "outputs": [],
   "source": [
    "a = 2 "
   ]
  },
  {
   "cell_type": "code",
   "execution_count": 9,
   "id": "8aefd8c0-3336-49c0-83c6-448c853369ab",
   "metadata": {},
   "outputs": [
    {
     "data": {
      "text/plain": [
       "2"
      ]
     },
     "execution_count": 9,
     "metadata": {},
     "output_type": "execute_result"
    }
   ],
   "source": [
    "a"
   ]
  },
  {
   "cell_type": "code",
   "execution_count": 10,
   "id": "56881819-74c9-4a86-a358-54a5d3c55a0c",
   "metadata": {},
   "outputs": [],
   "source": [
    "a = 5 "
   ]
  },
  {
   "cell_type": "code",
   "execution_count": 12,
   "id": "dbfd75ab-2b12-408f-afd6-e7b5deaf7e19",
   "metadata": {},
   "outputs": [
    {
     "data": {
      "text/plain": [
       "5"
      ]
     },
     "execution_count": 12,
     "metadata": {},
     "output_type": "execute_result"
    }
   ],
   "source": [
    "a"
   ]
  }
 ],
 "metadata": {
  "kernelspec": {
   "display_name": "Python 3 (ipykernel)",
   "language": "python",
   "name": "python3"
  },
  "language_info": {
   "codemirror_mode": {
    "name": "ipython",
    "version": 3
   },
   "file_extension": ".py",
   "mimetype": "text/x-python",
   "name": "python",
   "nbconvert_exporter": "python",
   "pygments_lexer": "ipython3",
   "version": "3.10.8"
  },
  "toc-autonumbering": false
 },
 "nbformat": 4,
 "nbformat_minor": 5
}
